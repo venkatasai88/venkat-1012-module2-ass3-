{
 "cells": [
  {
   "cell_type": "markdown",
   "metadata": {},
   "source": [
    "1.Write a Python program to find area of a circle using math function."
   ]
  },
  {
   "cell_type": "code",
   "execution_count": 1,
   "metadata": {},
   "outputs": [
    {
     "name": "stdout",
     "output_type": "stream",
     "text": [
      "Enter the radius of the circle: 2\n",
      "12.566370614359172\n"
     ]
    }
   ],
   "source": [
    "import math\n",
    "r = float(input(\"Enter the radius of the circle: \"))\n",
    "area = math.pi* r * r\n",
    "print(area)"
   ]
  },
  {
   "cell_type": "markdown",
   "metadata": {},
   "source": [
    "2.Write a program to find Area of Regular Polygon using math function."
   ]
  },
  {
   "cell_type": "code",
   "execution_count": 5,
   "metadata": {},
   "outputs": [
    {
     "name": "stdout",
     "output_type": "stream",
     "text": [
      "Input number of sides: 5\n",
      "Input the length of a side: 13\n",
      "The area of the polygon is:  290.7606806995354\n"
     ]
    }
   ],
   "source": [
    "from math import tan,pi\n",
    "n = int(input(\"Input number of sides: \"))\n",
    "length = float(input(\"Input the length of a side: \"))\n",
    "area = n * (length**2) / (4 * tan(pi / n))\n",
    "print(\"The area of the polygon is: \",area)"
   ]
  },
  {
   "cell_type": "markdown",
   "metadata": {},
   "source": [
    "3.Write a program to find  Area of a Segment of a Circle Formula using math function."
   ]
  },
  {
   "cell_type": "code",
   "execution_count": 14,
   "metadata": {},
   "outputs": [
    {
     "name": "stdout",
     "output_type": "stream",
     "text": [
      "enter the radius10\n",
      "enter the angle90\n",
      "area of minor segment= 28.53981633974483\n",
      "area of major segment= 285.6194490192345\n"
     ]
    }
   ],
   "source": [
    "import math\n",
    "def segmentarea(r,angle):\n",
    "    areaofsector = pi * (r * r) * (angle / 360) \n",
    "    areaoftriangle = 1 / 2 *(r * r) *math.sin((angle * pi) / 180) \n",
    "  \n",
    "    return areaofsector - areaoftriangle; \n",
    "r=int(input(\"enter the radius\"))\n",
    "angle=int(input(\"enter the angle\"))\n",
    "print(\"area of minor segment=\",segmentarea(r,angle))\n",
    "print(\"area of major segment=\",segmentarea(r,(360-angle)))"
   ]
  },
  {
   "cell_type": "markdown",
   "metadata": {},
   "source": [
    "4.Write a python program to shuffle list l1=[100,1,2,3,30,40,”hai”,”hello”]."
   ]
  },
  {
   "cell_type": "code",
   "execution_count": 15,
   "metadata": {},
   "outputs": [
    {
     "name": "stdout",
     "output_type": "stream",
     "text": [
      "[40, 1, 'hai', 100, 3, 'hello', 2, 30]\n"
     ]
    }
   ],
   "source": [
    "from random import shuffle\n",
    "l1 = [100,1,2,3,30,40,\"hai\",\"hello\"]\n",
    "shuffle(l1)\n",
    "print(l1)"
   ]
  },
  {
   "cell_type": "markdown",
   "metadata": {},
   "source": [
    "4.Write a program to generate random numbers between 1,10000 and difference between each random number is 50."
   ]
  },
  {
   "cell_type": "code",
   "execution_count": 20,
   "metadata": {},
   "outputs": [
    {
     "name": "stdout",
     "output_type": "stream",
     "text": [
      "62\n",
      "112\n",
      "162\n",
      "212\n",
      "262\n",
      "312\n",
      "362\n",
      "412\n",
      "462\n",
      "512\n",
      "562\n",
      "612\n",
      "662\n",
      "712\n",
      "762\n",
      "812\n",
      "862\n",
      "912\n",
      "962\n",
      "1012\n"
     ]
    }
   ],
   "source": [
    "import random\n",
    "n = random.randint(1,1000)\n",
    "print(n)\n",
    "\n",
    "while(n<1000):\n",
    "    n=n+50\n",
    "    print(n)"
   ]
  },
  {
   "cell_type": "markdown",
   "metadata": {},
   "source": [
    "5.Write a python program by using math module to find\n"
   ]
  },
  {
   "cell_type": "markdown",
   "metadata": {},
   "source": [
    "a.sin 60"
   ]
  },
  {
   "cell_type": "code",
   "execution_count": 21,
   "metadata": {},
   "outputs": [
    {
     "name": "stdout",
     "output_type": "stream",
     "text": [
      "-0.3048106211022167\n"
     ]
    }
   ],
   "source": [
    "import math\n",
    "sine=math.sin(60)\n",
    "print(sine)"
   ]
  },
  {
   "cell_type": "markdown",
   "metadata": {},
   "source": [
    "b.cos(pi)"
   ]
  },
  {
   "cell_type": "code",
   "execution_count": 23,
   "metadata": {},
   "outputs": [
    {
     "name": "stdout",
     "output_type": "stream",
     "text": [
      "-1.0\n"
     ]
    }
   ],
   "source": [
    "import math\n",
    "co=math.cos(pi)\n",
    "print(co)"
   ]
  },
  {
   "cell_type": "markdown",
   "metadata": {},
   "source": [
    "c.tan(90)"
   ]
  },
  {
   "cell_type": "code",
   "execution_count": 26,
   "metadata": {},
   "outputs": [
    {
     "name": "stdout",
     "output_type": "stream",
     "text": [
      "-1.995200412208242\n"
     ]
    }
   ],
   "source": [
    "import math\n",
    "ta=math.tan(90)\n",
    "print(ta)"
   ]
  },
  {
   "cell_type": "markdown",
   "metadata": {},
   "source": [
    "d.angle of sin(0.8660254037844386)"
   ]
  },
  {
   "cell_type": "code",
   "execution_count": 29,
   "metadata": {},
   "outputs": [
    {
     "name": "stdout",
     "output_type": "stream",
     "text": [
      "0.7617599814162892\n"
     ]
    }
   ],
   "source": [
    "import math\n",
    "\n",
    "print(math.sin((0.86602540378443860009)))"
   ]
  },
  {
   "cell_type": "markdown",
   "metadata": {},
   "source": [
    "e.5^8"
   ]
  },
  {
   "cell_type": "code",
   "execution_count": 32,
   "metadata": {},
   "outputs": [
    {
     "name": "stdout",
     "output_type": "stream",
     "text": [
      "390625\n"
     ]
    }
   ],
   "source": [
    "print(5**8)"
   ]
  },
  {
   "cell_type": "markdown",
   "metadata": {},
   "source": [
    "f.Square root of 400"
   ]
  },
  {
   "cell_type": "code",
   "execution_count": 31,
   "metadata": {},
   "outputs": [
    {
     "name": "stdout",
     "output_type": "stream",
     "text": [
      "20.0\n"
     ]
    }
   ],
   "source": [
    "print(400**0.5)"
   ]
  },
  {
   "cell_type": "markdown",
   "metadata": {},
   "source": [
    "g.The value of 5^e"
   ]
  },
  {
   "cell_type": "code",
   "execution_count": 34,
   "metadata": {},
   "outputs": [
    {
     "name": "stdout",
     "output_type": "stream",
     "text": [
      "13.591409142295225\n"
     ]
    }
   ],
   "source": [
    "import math\n",
    "print(5*(math.e))"
   ]
  },
  {
   "cell_type": "markdown",
   "metadata": {},
   "source": [
    "h.The value of Log(1024), base 2"
   ]
  },
  {
   "cell_type": "code",
   "execution_count": 35,
   "metadata": {},
   "outputs": [
    {
     "name": "stdout",
     "output_type": "stream",
     "text": [
      "10.0\n"
     ]
    }
   ],
   "source": [
    "import math\n",
    "print(math.log2(1024))"
   ]
  },
  {
   "cell_type": "markdown",
   "metadata": {},
   "source": [
    "i.The value of Log(1024), base 10"
   ]
  },
  {
   "cell_type": "code",
   "execution_count": 36,
   "metadata": {},
   "outputs": [
    {
     "name": "stdout",
     "output_type": "stream",
     "text": [
      "3.010299956639812\n"
     ]
    }
   ],
   "source": [
    "import math\n",
    "print(math.log10(1024))"
   ]
  },
  {
   "cell_type": "markdown",
   "metadata": {},
   "source": [
    "j.The Floor and Ceiling value of 23.56 "
   ]
  },
  {
   "cell_type": "code",
   "execution_count": 37,
   "metadata": {},
   "outputs": [
    {
     "name": "stdout",
     "output_type": "stream",
     "text": [
      "23\n",
      "24\n"
     ]
    }
   ],
   "source": [
    "import math\n",
    "print(math.floor(23.56))\n",
    "print(math.ceil(23.56))"
   ]
  },
  {
   "cell_type": "code",
   "execution_count": null,
   "metadata": {},
   "outputs": [],
   "source": []
  }
 ],
 "metadata": {
  "kernelspec": {
   "display_name": "Python 3",
   "language": "python",
   "name": "python3"
  },
  "language_info": {
   "codemirror_mode": {
    "name": "ipython",
    "version": 3
   },
   "file_extension": ".py",
   "mimetype": "text/x-python",
   "name": "python",
   "nbconvert_exporter": "python",
   "pygments_lexer": "ipython3",
   "version": "3.8.3"
  }
 },
 "nbformat": 4,
 "nbformat_minor": 4
}
